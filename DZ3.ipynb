{
  "nbformat": 4,
  "nbformat_minor": 0,
  "metadata": {
    "colab": {
      "name": "Ганецкая DZ3.ipynb",
      "provenance": [],
      "collapsed_sections": []
    },
    "kernelspec": {
      "name": "python3",
      "display_name": "Python 3"
    },
    "language_info": {
      "name": "python"
    }
  },
  "cells": [
    {
      "cell_type": "code",
      "source": [
        "import subprocess"
      ],
      "metadata": {
        "id": "yDW77KQLCGNn"
      },
      "execution_count": null,
      "outputs": []
    },
    {
      "cell_type": "markdown",
      "source": [
        "# Устанавливаем java и ChromHmm"
      ],
      "metadata": {
        "id": "vRciyzvPEDLD"
      }
    },
    {
      "cell_type": "code",
      "source": [
        "!curl -O https://raw.githubusercontent.com/deepjavalibrary/d2l-java/master/tools/fix-colab-gpu.sh && bash fix-colab-gpu.sh"
      ],
      "metadata": {
        "id": "1O3GJ3Gys7Tm",
        "colab": {
          "base_uri": "https://localhost:8080/"
        },
        "outputId": "c7518830-0fa8-4bb4-9d23-801ec1874d18"
      },
      "execution_count": null,
      "outputs": [
        {
          "output_type": "stream",
          "name": "stdout",
          "text": [
            "  % Total    % Received % Xferd  Average Speed   Time    Time     Time  Current\n",
            "                                 Dload  Upload   Total   Spent    Left  Speed\n",
            "\r  0     0    0     0    0     0      0      0 --:--:-- --:--:-- --:--:--     0\r100   155  100   155    0     0    880      0 --:--:-- --:--:-- --:--:--   880\n",
            "nvcc: NVIDIA (R) Cuda compiler driver\n",
            "Copyright (c) 2005-2019 NVIDIA Corporation\n",
            "Built on Sun_Jul_28_19:07:16_PDT_2019\n",
            "Cuda compilation tools, release 10.1, V10.1.243\n"
          ]
        }
      ]
    },
    {
      "cell_type": "code",
      "execution_count": null,
      "metadata": {
        "id": "NxS1Mv5WquOV",
        "colab": {
          "base_uri": "https://localhost:8080/"
        },
        "outputId": "2ec68812-1242-413a-a068-0fa9d9455df4"
      },
      "outputs": [
        {
          "output_type": "stream",
          "name": "stdout",
          "text": [
            "  % Total    % Received % Xferd  Average Speed   Time    Time     Time  Current\n",
            "                                 Dload  Upload   Total   Spent    Left  Speed\n",
            "\r  0     0    0     0    0     0      0      0 --:--:-- --:--:-- --:--:--     0\r100   520  100   520    0     0   3768      0 --:--:-- --:--:-- --:--:--  3741\r100   520  100   520    0     0   3768      0 --:--:-- --:--:-- --:--:--  3741\n",
            "Update environment...\n",
            "Install Java...\n",
            "Install Jupyter java kernel...\n"
          ]
        }
      ],
      "source": [
        "!curl -O https://raw.githubusercontent.com/deepjavalibrary/d2l-java/master/tools/colab_build.sh && bash colab_build.sh"
      ]
    },
    {
      "cell_type": "code",
      "source": [
        "!java --list-modules | grep \"jdk.jshell\"\n"
      ],
      "metadata": {
        "id": "_NrPS924rQFX",
        "colab": {
          "base_uri": "https://localhost:8080/"
        },
        "outputId": "340e9391-70ce-488d-9d62-bfa6fde1b2fa"
      },
      "execution_count": null,
      "outputs": [
        {
          "output_type": "stream",
          "name": "stdout",
          "text": [
            "jdk.jshell@11.0.14.1\n"
          ]
        }
      ]
    },
    {
      "cell_type": "code",
      "source": [
        "!wget http://compbio.mit.edu/ChromHMM/ChromHMM.zip"
      ],
      "metadata": {
        "id": "zCdYYvCJrpRt"
      },
      "execution_count": null,
      "outputs": []
    },
    {
      "cell_type": "code",
      "source": [
        "!unzip /content/ChromHMM.zip"
      ],
      "metadata": {
        "id": "gF4uI2bvvEN2",
        "colab": {
          "base_uri": "https://localhost:8080/"
        },
        "outputId": "919b9995-b303-4225-ec62-82e5783f2c11"
      },
      "execution_count": null,
      "outputs": [
        {
          "output_type": "stream",
          "name": "stdout",
          "text": [
            "Archive:  /content/ChromHMM.zip\n",
            "   creating: ChromHMM/ANCHORFILES/\n",
            "   creating: ChromHMM/ANCHORFILES/ce10/\n",
            "  inflating: ChromHMM/ANCHORFILES/ce10/RefSeqTES.ce10.txt.gz  \n",
            "  inflating: ChromHMM/ANCHORFILES/ce10/RefSeqTSS.ce10.txt.gz  \n",
            "   creating: ChromHMM/ANCHORFILES/ce11/\n",
            "  inflating: ChromHMM/ANCHORFILES/ce11/RefSeqTES.ce11.txt.gz  \n",
            "  inflating: ChromHMM/ANCHORFILES/ce11/RefSeqTSS.ce11.txt.gz  \n",
            "   creating: ChromHMM/ANCHORFILES/ce6/\n",
            "  inflating: ChromHMM/ANCHORFILES/ce6/RefSeqTES.ce6.txt.gz  \n",
            "  inflating: ChromHMM/ANCHORFILES/ce6/RefSeqTSS.ce6.txt.gz  \n",
            "   creating: ChromHMM/ANCHORFILES/danRer10/\n",
            "  inflating: ChromHMM/ANCHORFILES/danRer10/RefSeqTES.danRer10.txt.gz  \n",
            "  inflating: ChromHMM/ANCHORFILES/danRer10/RefSeqTSS.danRer10.txt.gz  \n",
            "   creating: ChromHMM/ANCHORFILES/danRer11/\n",
            "  inflating: ChromHMM/ANCHORFILES/danRer11/RefSeqTES.danRer11.txt.gz  \n",
            "  inflating: ChromHMM/ANCHORFILES/danRer11/RefSeqTSS.danRer11.txt.gz  \n",
            "   creating: ChromHMM/ANCHORFILES/danRer7/\n",
            "  inflating: ChromHMM/ANCHORFILES/danRer7/RefSeqTES.danRer7.txt.gz  \n",
            "  inflating: ChromHMM/ANCHORFILES/danRer7/RefSeqTSS.danRer7.txt.gz  \n",
            "   creating: ChromHMM/ANCHORFILES/dm3/\n",
            "  inflating: ChromHMM/ANCHORFILES/dm3/RefSeqTES.dm3.txt.gz  \n",
            "  inflating: ChromHMM/ANCHORFILES/dm3/RefSeqTSS.dm3.txt.gz  \n",
            "   creating: ChromHMM/ANCHORFILES/dm6/\n",
            "  inflating: ChromHMM/ANCHORFILES/dm6/RefSeqTES.dm6.txt.gz  \n",
            "  inflating: ChromHMM/ANCHORFILES/dm6/RefSeqTSS.dm6.txt.gz  \n",
            "   creating: ChromHMM/ANCHORFILES/hg18/\n",
            "  inflating: ChromHMM/ANCHORFILES/hg18/RefSeqTES.hg18.txt.gz  \n",
            "  inflating: ChromHMM/ANCHORFILES/hg18/RefSeqTSS.hg18.txt.gz  \n",
            "   creating: ChromHMM/ANCHORFILES/hg19/\n",
            "  inflating: ChromHMM/ANCHORFILES/hg19/RefSeqTES.hg19.txt.gz  \n",
            "  inflating: ChromHMM/ANCHORFILES/hg19/RefSeqTSS.hg19.txt.gz  \n",
            "   creating: ChromHMM/ANCHORFILES/hg38/\n",
            "  inflating: ChromHMM/ANCHORFILES/hg38/RefSeqTES.hg38.txt.gz  \n",
            "  inflating: ChromHMM/ANCHORFILES/hg38/RefSeqTSS.hg38.txt.gz  \n",
            "   creating: ChromHMM/ANCHORFILES/mm10/\n",
            "  inflating: ChromHMM/ANCHORFILES/mm10/RefSeqTES.mm10.txt.gz  \n",
            "  inflating: ChromHMM/ANCHORFILES/mm10/RefSeqTSS.mm10.txt.gz  \n",
            "   creating: ChromHMM/ANCHORFILES/mm9/\n",
            "  inflating: ChromHMM/ANCHORFILES/mm9/RefSeqTES.mm9.txt.gz  \n",
            "  inflating: ChromHMM/ANCHORFILES/mm9/RefSeqTSS.mm9.txt.gz  \n",
            "   creating: ChromHMM/ANCHORFILES/rn5/\n",
            "  inflating: ChromHMM/ANCHORFILES/rn5/RefSeqTES.rn5.txt.gz  \n",
            "  inflating: ChromHMM/ANCHORFILES/rn5/RefSeqTSS.rn5.txt.gz  \n",
            "   creating: ChromHMM/ANCHORFILES/rn6/\n",
            "  inflating: ChromHMM/ANCHORFILES/rn6/RefSeqTES.rn6.txt.gz  \n",
            "  inflating: ChromHMM/ANCHORFILES/rn6/RefSeqTSS.rn6.txt.gz  \n",
            "  inflating: ChromHMM/ChromHMM.jar   \n",
            "  inflating: ChromHMM/ChromHMM_manual.pdf  \n",
            "   creating: ChromHMM/CHROMSIZES/\n",
            "  inflating: ChromHMM/CHROMSIZES/ce10.txt  \n",
            "  inflating: ChromHMM/CHROMSIZES/ce11.txt  \n",
            "  inflating: ChromHMM/CHROMSIZES/ce6.txt  \n",
            "  inflating: ChromHMM/CHROMSIZES/danRer10.txt  \n",
            "  inflating: ChromHMM/CHROMSIZES/danRer11.txt  \n",
            "  inflating: ChromHMM/CHROMSIZES/danRer7.txt  \n",
            "  inflating: ChromHMM/CHROMSIZES/dm3.txt  \n",
            "  inflating: ChromHMM/CHROMSIZES/dm6.txt  \n",
            "  inflating: ChromHMM/CHROMSIZES/hg18.txt  \n",
            "  inflating: ChromHMM/CHROMSIZES/hg19.txt  \n",
            "  inflating: ChromHMM/CHROMSIZES/hg38.txt  \n",
            "  inflating: ChromHMM/CHROMSIZES/mm10.txt  \n",
            "  inflating: ChromHMM/CHROMSIZES/mm9.txt  \n",
            "  inflating: ChromHMM/CHROMSIZES/rn5.txt  \n",
            "  inflating: ChromHMM/CHROMSIZES/rn6.txt  \n",
            "   creating: ChromHMM/COORDS/\n",
            "   creating: ChromHMM/COORDS/ce10/\n",
            "  inflating: ChromHMM/COORDS/ce10/RefSeqExon.ce10.bed.gz  \n",
            "  inflating: ChromHMM/COORDS/ce10/RefSeqGene.ce10.bed.gz  \n",
            "  inflating: ChromHMM/COORDS/ce10/RefSeqTES.ce10.bed.gz  \n",
            "  inflating: ChromHMM/COORDS/ce10/RefSeqTSS.ce10.bed.gz  \n",
            "  inflating: ChromHMM/COORDS/ce10/RefSeqTSS2kb.ce10.bed.gz  \n",
            "   creating: ChromHMM/COORDS/ce11/\n",
            "  inflating: ChromHMM/COORDS/ce11/RefSeqExon.ce11.bed.gz  \n",
            "  inflating: ChromHMM/COORDS/ce11/RefSeqGene.ce11.bed.gz  \n",
            "  inflating: ChromHMM/COORDS/ce11/RefSeqTES.ce11.bed.gz  \n",
            "  inflating: ChromHMM/COORDS/ce11/RefSeqTSS.ce11.bed.gz  \n",
            "  inflating: ChromHMM/COORDS/ce11/RefSeqTSS2kb.ce11.bed.gz  \n",
            "   creating: ChromHMM/COORDS/ce6/\n",
            "  inflating: ChromHMM/COORDS/ce6/RefSeqExon.ce6.bed.gz  \n",
            "  inflating: ChromHMM/COORDS/ce6/RefSeqGene.ce6.bed.gz  \n",
            "  inflating: ChromHMM/COORDS/ce6/RefSeqTES.ce6.bed.gz  \n",
            "  inflating: ChromHMM/COORDS/ce6/RefSeqTSS.ce6.bed.gz  \n",
            "  inflating: ChromHMM/COORDS/ce6/RefSeqTSS2kb.ce6.bed.gz  \n",
            "   creating: ChromHMM/COORDS/danRer10/\n",
            "  inflating: ChromHMM/COORDS/danRer10/RefSeqExon.danRer10.bed.gz  \n",
            "  inflating: ChromHMM/COORDS/danRer10/RefSeqGene.danRer10.bed.gz  \n",
            "  inflating: ChromHMM/COORDS/danRer10/RefSeqTES.danRer10.bed.gz  \n",
            "  inflating: ChromHMM/COORDS/danRer10/RefSeqTSS.danRer10.bed.gz  \n",
            "  inflating: ChromHMM/COORDS/danRer10/RefSeqTSS2kb.danRer10.bed.gz  \n",
            "   creating: ChromHMM/COORDS/danRer11/\n",
            "  inflating: ChromHMM/COORDS/danRer11/RefSeqExon.danRer11.bed.gz  \n",
            "  inflating: ChromHMM/COORDS/danRer11/RefSeqGene.danRer11.bed.gz  \n",
            "  inflating: ChromHMM/COORDS/danRer11/RefSeqTES.danRer11.bed.gz  \n",
            "  inflating: ChromHMM/COORDS/danRer11/RefSeqTSS.danRer11.bed.gz  \n",
            "  inflating: ChromHMM/COORDS/danRer11/RefSeqTSS2kb.danRer11.bed.gz  \n",
            "   creating: ChromHMM/COORDS/danRer7/\n",
            "  inflating: ChromHMM/COORDS/danRer7/RefSeqExon.danRer7.bed.gz  \n",
            "  inflating: ChromHMM/COORDS/danRer7/RefSeqGene.danRer7.bed.gz  \n",
            "  inflating: ChromHMM/COORDS/danRer7/RefSeqTES.danRer7.bed.gz  \n",
            "  inflating: ChromHMM/COORDS/danRer7/RefSeqTSS.danRer7.bed.gz  \n",
            "  inflating: ChromHMM/COORDS/danRer7/RefSeqTSS2kb.danRer7.bed.gz  \n",
            "   creating: ChromHMM/COORDS/dm3/\n",
            "  inflating: ChromHMM/COORDS/dm3/RefSeqExon.dm3.bed.gz  \n",
            "  inflating: ChromHMM/COORDS/dm3/RefSeqGene.dm3.bed.gz  \n",
            "  inflating: ChromHMM/COORDS/dm3/RefSeqTES.dm3.bed.gz  \n",
            "  inflating: ChromHMM/COORDS/dm3/RefSeqTSS.dm3.bed.gz  \n",
            "  inflating: ChromHMM/COORDS/dm3/RefSeqTSS2kb.dm3.bed.gz  \n",
            "   creating: ChromHMM/COORDS/dm6/\n",
            "  inflating: ChromHMM/COORDS/dm6/RefSeqExon.dm6.bed.gz  \n",
            "  inflating: ChromHMM/COORDS/dm6/RefSeqGene.dm6.bed.gz  \n",
            "  inflating: ChromHMM/COORDS/dm6/RefSeqTES.dm6.bed.gz  \n",
            "  inflating: ChromHMM/COORDS/dm6/RefSeqTSS.dm6.bed.gz  \n",
            "  inflating: ChromHMM/COORDS/dm6/RefSeqTSS2kb.dm6.bed.gz  \n",
            "   creating: ChromHMM/COORDS/hg18/\n",
            "  inflating: ChromHMM/COORDS/hg18/CpGIsland.hg18.bed.gz  \n",
            " extracting: ChromHMM/COORDS/hg18/laminB1lads.hg18.bed.gz  \n",
            "  inflating: ChromHMM/COORDS/hg18/RefSeqExon.hg18.bed.gz  \n",
            "  inflating: ChromHMM/COORDS/hg18/RefSeqGene.hg18.bed.gz  \n",
            "  inflating: ChromHMM/COORDS/hg18/RefSeqTES.hg18.bed.gz  \n",
            "  inflating: ChromHMM/COORDS/hg18/RefSeqTSS.hg18.bed.gz  \n",
            "  inflating: ChromHMM/COORDS/hg18/RefSeqTSS2kb.hg18.bed.gz  \n",
            "   creating: ChromHMM/COORDS/hg19/\n",
            "  inflating: ChromHMM/COORDS/hg19/CpGIsland.hg19.bed.gz  \n",
            " extracting: ChromHMM/COORDS/hg19/laminB1lads.hg19.bed.gz  \n",
            "  inflating: ChromHMM/COORDS/hg19/RefSeqExon.hg19.bed.gz  \n",
            "  inflating: ChromHMM/COORDS/hg19/RefSeqGene.hg19.bed.gz  \n",
            "  inflating: ChromHMM/COORDS/hg19/RefSeqTES.hg19.bed.gz  \n",
            "  inflating: ChromHMM/COORDS/hg19/RefSeqTSS.hg19.bed.gz  \n",
            "  inflating: ChromHMM/COORDS/hg19/RefSeqTSS2kb.hg19.bed.gz  \n",
            "   creating: ChromHMM/COORDS/hg38/\n",
            "  inflating: ChromHMM/COORDS/hg38/CpGIsland.hg38.bed.gz  \n",
            "  inflating: ChromHMM/COORDS/hg38/RefSeqExon.hg38.bed.gz  \n",
            "  inflating: ChromHMM/COORDS/hg38/RefSeqGene.hg38.bed.gz  \n",
            "  inflating: ChromHMM/COORDS/hg38/RefSeqTES.hg38.bed.gz  \n",
            "  inflating: ChromHMM/COORDS/hg38/RefSeqTSS.hg38.bed.gz  \n",
            "  inflating: ChromHMM/COORDS/hg38/RefSeqTSS2kb.hg38.bed.gz  \n",
            "   creating: ChromHMM/COORDS/mm10/\n",
            "  inflating: ChromHMM/COORDS/mm10/CpGIsland.mm10.bed.gz  \n",
            "  inflating: ChromHMM/COORDS/mm10/RefSeqExon.mm10.bed.gz  \n",
            "  inflating: ChromHMM/COORDS/mm10/RefSeqGene.mm10.bed.gz  \n",
            "  inflating: ChromHMM/COORDS/mm10/RefSeqTES.mm10.bed.gz  \n",
            "  inflating: ChromHMM/COORDS/mm10/RefSeqTSS.mm10.bed.gz  \n",
            "  inflating: ChromHMM/COORDS/mm10/RefSeqTSS2kb.mm10.bed.gz  \n",
            "   creating: ChromHMM/COORDS/mm9/\n",
            "  inflating: ChromHMM/COORDS/mm9/CpGIsland.mm9.bed.gz  \n",
            "  inflating: ChromHMM/COORDS/mm9/RefSeqExon.mm9.bed.gz  \n",
            "  inflating: ChromHMM/COORDS/mm9/RefSeqGene.mm9.bed.gz  \n",
            "  inflating: ChromHMM/COORDS/mm9/RefSeqTES.mm9.bed.gz  \n",
            "  inflating: ChromHMM/COORDS/mm9/RefSeqTSS.mm9.bed.gz  \n",
            "  inflating: ChromHMM/COORDS/mm9/RefSeqTSS2kb.mm9.bed.gz  \n",
            "   creating: ChromHMM/COORDS/rn5/\n",
            "  inflating: ChromHMM/COORDS/rn5/CpGIsland.rn5.bed.gz  \n",
            "  inflating: ChromHMM/COORDS/rn5/RefSeqExon.rn5.bed.gz  \n",
            "  inflating: ChromHMM/COORDS/rn5/RefSeqGene.rn5.bed.gz  \n",
            "  inflating: ChromHMM/COORDS/rn5/RefSeqTES.rn5.bed.gz  \n",
            "  inflating: ChromHMM/COORDS/rn5/RefSeqTSS.rn5.bed.gz  \n",
            "  inflating: ChromHMM/COORDS/rn5/RefSeqTSS2kb.rn5.bed.gz  \n",
            "   creating: ChromHMM/COORDS/rn6/\n",
            "  inflating: ChromHMM/COORDS/rn6/CpGIsland.rn6.bed.gz  \n",
            "  inflating: ChromHMM/COORDS/rn6/RefSeqExon.rn6.bed.gz  \n",
            "  inflating: ChromHMM/COORDS/rn6/RefSeqGene.rn6.bed.gz  \n",
            "  inflating: ChromHMM/COORDS/rn6/RefSeqTES.rn6.bed.gz  \n",
            "  inflating: ChromHMM/COORDS/rn6/RefSeqTSS.rn6.bed.gz  \n",
            "  inflating: ChromHMM/COORDS/rn6/RefSeqTSS2kb.rn6.bed.gz  \n",
            "   creating: ChromHMM/SAMPLEDATA_HG18/\n",
            "  inflating: ChromHMM/SAMPLEDATA_HG18/GM12878_chr11_binary.txt.gz  \n",
            "  inflating: ChromHMM/SAMPLEDATA_HG18/K562_chr11_binary.txt.gz  \n",
            "   creating: ChromHMM/SRC/\n",
            "   creating: ChromHMM/SRC/edu/\n",
            "   creating: ChromHMM/SRC/edu/mit/\n",
            "   creating: ChromHMM/SRC/edu/mit/compbio/\n",
            "   creating: ChromHMM/SRC/edu/mit/compbio/ChromHMM/\n",
            "  inflating: ChromHMM/SRC/edu/mit/compbio/ChromHMM/BrowserOutput.java  \n",
            "  inflating: ChromHMM/SRC/edu/mit/compbio/ChromHMM/ChromHMM.java  \n",
            "  inflating: ChromHMM/SRC/edu/mit/compbio/ChromHMM/ConvertGeneTable.java  \n",
            "  inflating: ChromHMM/SRC/edu/mit/compbio/ChromHMM/NestedEliminateInitialize.java  \n",
            "  inflating: ChromHMM/SRC/edu/mit/compbio/ChromHMM/Preprocessing.java  \n",
            "  inflating: ChromHMM/SRC/edu/mit/compbio/ChromHMM/StateAnalysis.java  \n",
            "  inflating: ChromHMM/SRC/edu/mit/compbio/ChromHMM/Util.java  \n",
            "   creating: ChromHMM/SRC/org/\n",
            "   creating: ChromHMM/SRC/org/tc33/\n",
            "   creating: ChromHMM/SRC/org/tc33/jheatchart/\n",
            "  inflating: ChromHMM/SRC/org/tc33/jheatchart/HeatChart.java  \n"
          ]
        }
      ]
    },
    {
      "cell_type": "markdown",
      "source": [
        "## Скачиваем файлы"
      ],
      "metadata": {
        "id": "k80uGrS5quq1"
      }
    },
    {
      "cell_type": "code",
      "source": [
        "paths = [\n",
        "         \"http://hgdownload.cse.ucsc.edu/goldenPath/hg19/encodeDCC/wgEncodeBroadHistone/wgEncodeBroadHistoneMonocd14ro1746H2azAlnRep1.bam\",\n",
        "         \"http://hgdownload.cse.ucsc.edu/goldenPath/hg19/encodeDCC/wgEncodeBroadHistone/wgEncodeBroadHistoneMonocd14ro1746H3k27acAlnRep1.bam\",\n",
        "         \"http://hgdownload.cse.ucsc.edu/goldenPath/hg19/encodeDCC/wgEncodeBroadHistone/wgEncodeBroadHistoneMonocd14ro1746H3k27me3AlnRep1.bam\",\n",
        "         \"http://hgdownload.cse.ucsc.edu/goldenPath/hg19/encodeDCC/wgEncodeBroadHistone/wgEncodeBroadHistoneMonocd14ro1746H3k36me3AlnRep1.bam\",\n",
        "         \"http://hgdownload.cse.ucsc.edu/goldenPath/hg19/encodeDCC/wgEncodeBroadHistone/wgEncodeBroadHistoneMonocd14ro1746H3k04me1AlnRep1.bam\",\n",
        "         \"http://hgdownload.cse.ucsc.edu/goldenPath/hg19/encodeDCC/wgEncodeBroadHistone/wgEncodeBroadHistoneMonocd14ro1746H3k04me2AlnRep1.bam\",\n",
        "         \"http://hgdownload.cse.ucsc.edu/goldenPath/hg19/encodeDCC/wgEncodeBroadHistone/wgEncodeBroadHistoneMonocd14ro1746H3k04me3AlnRep1.bam\",\n",
        "         \"http://hgdownload.cse.ucsc.edu/goldenPath/hg19/encodeDCC/wgEncodeBroadHistone/wgEncodeBroadHistoneMonocd14ro1746H3k79me2AlnRep1.bam\",\n",
        "         \"http://hgdownload.cse.ucsc.edu/goldenPath/hg19/encodeDCC/wgEncodeBroadHistone/wgEncodeBroadHistoneMonocd14ro1746H3k09acAlnRep1.bam\",\n",
        "         \"http://hgdownload.cse.ucsc.edu/goldenPath/hg19/encodeDCC/wgEncodeBroadHistone/wgEncodeBroadHistoneMonocd14ro1746H3k09me3AlnRep1.bam\",\n",
        "         \"http://hgdownload.cse.ucsc.edu/goldenPath/hg19/encodeDCC/wgEncodeBroadHistone/wgEncodeBroadHistoneMonocd14ro1746H4k20me1AlnRep1.bam\",\n",
        "         \"http://hgdownload.cse.ucsc.edu/goldenPath/hg19/encodeDCC/wgEncodeBroadHistone/wgEncodeBroadHistoneMonocd14ro1746ControlAlnRep1.bam\"\n",
        "]\n",
        "\n",
        "names = []\n",
        "for path in paths:\n",
        "  names.append(path[path.find(\"Monocd14ro1746\")+14:path.find(\"Aln\")] + \".bam\")\n",
        "names"
      ],
      "metadata": {
        "id": "xZN3NTcLakg-",
        "colab": {
          "base_uri": "https://localhost:8080/"
        },
        "outputId": "b9480d9e-d64e-4d20-fa28-ab87c4548f96"
      },
      "execution_count": null,
      "outputs": [
        {
          "output_type": "execute_result",
          "data": {
            "text/plain": [
              "['H2az.bam',\n",
              " 'H3k27ac.bam',\n",
              " 'H3k27me3.bam',\n",
              " 'H3k36me3.bam',\n",
              " 'H3k04me1.bam',\n",
              " 'H3k04me2.bam',\n",
              " 'H3k04me3.bam',\n",
              " 'H3k79me2.bam',\n",
              " 'H3k09ac.bam',\n",
              " 'H3k09me3.bam',\n",
              " 'H4k20me1.bam',\n",
              " 'Control.bam']"
            ]
          },
          "metadata": {},
          "execution_count": 7
        }
      ]
    },
    {
      "cell_type": "code",
      "source": [
        "for i in range(len(paths)):\n",
        "  subprocess.call(f\"wget {paths[i]} -O {names[i]}\", shell = True)\n",
        "  print(f' {paths[i]} -O {names[i]}')"
      ],
      "metadata": {
        "colab": {
          "base_uri": "https://localhost:8080/"
        },
        "id": "V2ZjlPX3Bs2P",
        "outputId": "568acc46-056b-44c8-f4a4-445a0c86f8ae"
      },
      "execution_count": null,
      "outputs": [
        {
          "output_type": "stream",
          "name": "stdout",
          "text": [
            " http://hgdownload.cse.ucsc.edu/goldenPath/hg19/encodeDCC/wgEncodeBroadHistone/wgEncodeBroadHistoneMonocd14ro1746H2azAlnRep1.bam -O H2az.bam\n",
            " http://hgdownload.cse.ucsc.edu/goldenPath/hg19/encodeDCC/wgEncodeBroadHistone/wgEncodeBroadHistoneMonocd14ro1746H3k27acAlnRep1.bam -O H3k27ac.bam\n",
            " http://hgdownload.cse.ucsc.edu/goldenPath/hg19/encodeDCC/wgEncodeBroadHistone/wgEncodeBroadHistoneMonocd14ro1746H3k27me3AlnRep1.bam -O H3k27me3.bam\n",
            " http://hgdownload.cse.ucsc.edu/goldenPath/hg19/encodeDCC/wgEncodeBroadHistone/wgEncodeBroadHistoneMonocd14ro1746H3k36me3AlnRep1.bam -O H3k36me3.bam\n",
            " http://hgdownload.cse.ucsc.edu/goldenPath/hg19/encodeDCC/wgEncodeBroadHistone/wgEncodeBroadHistoneMonocd14ro1746H3k04me1AlnRep1.bam -O H3k04me1.bam\n",
            " http://hgdownload.cse.ucsc.edu/goldenPath/hg19/encodeDCC/wgEncodeBroadHistone/wgEncodeBroadHistoneMonocd14ro1746H3k04me2AlnRep1.bam -O H3k04me2.bam\n",
            " http://hgdownload.cse.ucsc.edu/goldenPath/hg19/encodeDCC/wgEncodeBroadHistone/wgEncodeBroadHistoneMonocd14ro1746H3k04me3AlnRep1.bam -O H3k04me3.bam\n",
            " http://hgdownload.cse.ucsc.edu/goldenPath/hg19/encodeDCC/wgEncodeBroadHistone/wgEncodeBroadHistoneMonocd14ro1746H3k79me2AlnRep1.bam -O H3k79me2.bam\n",
            " http://hgdownload.cse.ucsc.edu/goldenPath/hg19/encodeDCC/wgEncodeBroadHistone/wgEncodeBroadHistoneMonocd14ro1746H3k09acAlnRep1.bam -O H3k09ac.bam\n",
            " http://hgdownload.cse.ucsc.edu/goldenPath/hg19/encodeDCC/wgEncodeBroadHistone/wgEncodeBroadHistoneMonocd14ro1746H3k09me3AlnRep1.bam -O H3k09me3.bam\n",
            " http://hgdownload.cse.ucsc.edu/goldenPath/hg19/encodeDCC/wgEncodeBroadHistone/wgEncodeBroadHistoneMonocd14ro1746H4k20me1AlnRep1.bam -O H4k20me1.bam\n",
            " http://hgdownload.cse.ucsc.edu/goldenPath/hg19/encodeDCC/wgEncodeBroadHistone/wgEncodeBroadHistoneMonocd14ro1746ControlAlnRep1.bam -O Control.bam\n"
          ]
        }
      ]
    },
    {
      "cell_type": "markdown",
      "source": [
        "* Вручную создаем текстовый файл cellmarkfiletable.txt, в котором указываем название типа клеток, разных гистоновых меток, а также соответствующие .bam файлы для эксперимента и контроля. Один и тот же контрольный файл .bam может быть использован для всех экспериментов.\n",
        "\n",
        "* Более подробно о содержании файла cellmarkfiletable.txt можно посмотреть в руководстве пользователя ChromHMM\n",
        "\n",
        "* Файл cellmarkfiletable.txt добавляем в github репозиторий для отчета"
      ],
      "metadata": {
        "id": "asjMJ26h79SY"
      }
    },
    {
      "cell_type": "markdown",
      "source": [
        "Запускаем ChromHMM с опцией BinarizeBam, чтобы конвертировать профили из ChIP-seq экспериментов (bam-файлы) в табличку из 0 и 1, т.е. чтобы сделать разбивку генома на условные интервалы (бины) длиной 200 п.о.\n",
        "Для 11 меток программа работает около 5 мин\n"
      ],
      "metadata": {
        "id": "WeoRL3rp728b"
      }
    },
    {
      "cell_type": "code",
      "source": [
        "!java -mx8000M -jar /content/ChromHMM/ChromHMM.jar BinarizeBam -b 200  /content/ChromHMM/CHROMSIZES/hg19.txt /content/ cellmarkfiletable.txt   binarizedData"
      ],
      "metadata": {
        "colab": {
          "base_uri": "https://localhost:8080/"
        },
        "id": "GcVBvuQZfzb8",
        "outputId": "e16cfa84-11d5-439a-a6c7-5c4760c4cc7b"
      },
      "execution_count": null,
      "outputs": [
        {
          "output_type": "stream",
          "name": "stdout",
          "text": [
            "Writing to file binarizedData/Monocytes-CD14+_RO01746_chr1_binary.txt\n",
            "Writing to file binarizedData/Monocytes-CD14+_RO01746_chr2_binary.txt\n",
            "Writing to file binarizedData/Monocytes-CD14+_RO01746_chr3_binary.txt\n",
            "Writing to file binarizedData/Monocytes-CD14+_RO01746_chr4_binary.txt\n",
            "Writing to file binarizedData/Monocytes-CD14+_RO01746_chr5_binary.txt\n",
            "Writing to file binarizedData/Monocytes-CD14+_RO01746_chr6_binary.txt\n",
            "Writing to file binarizedData/Monocytes-CD14+_RO01746_chr7_binary.txt\n",
            "Writing to file binarizedData/Monocytes-CD14+_RO01746_chrX_binary.txt\n",
            "Writing to file binarizedData/Monocytes-CD14+_RO01746_chr8_binary.txt\n",
            "Writing to file binarizedData/Monocytes-CD14+_RO01746_chr9_binary.txt\n",
            "Writing to file binarizedData/Monocytes-CD14+_RO01746_chr10_binary.txt\n",
            "Writing to file binarizedData/Monocytes-CD14+_RO01746_chr11_binary.txt\n",
            "Writing to file binarizedData/Monocytes-CD14+_RO01746_chr12_binary.txt\n",
            "Writing to file binarizedData/Monocytes-CD14+_RO01746_chr13_binary.txt\n",
            "Writing to file binarizedData/Monocytes-CD14+_RO01746_chr14_binary.txt\n",
            "Writing to file binarizedData/Monocytes-CD14+_RO01746_chr15_binary.txt\n",
            "Writing to file binarizedData/Monocytes-CD14+_RO01746_chr16_binary.txt\n",
            "Writing to file binarizedData/Monocytes-CD14+_RO01746_chr17_binary.txt\n",
            "Writing to file binarizedData/Monocytes-CD14+_RO01746_chr18_binary.txt\n",
            "Writing to file binarizedData/Monocytes-CD14+_RO01746_chr20_binary.txt\n",
            "Writing to file binarizedData/Monocytes-CD14+_RO01746_chr19_binary.txt\n",
            "Writing to file binarizedData/Monocytes-CD14+_RO01746_chr22_binary.txt\n",
            "Writing to file binarizedData/Monocytes-CD14+_RO01746_chr21_binary.txt\n",
            "Writing to file binarizedData/Monocytes-CD14+_RO01746_chrM_binary.txt\n"
          ]
        }
      ]
    },
    {
      "cell_type": "markdown",
      "source": [
        "Запускаем ChromHMM с опцией LearnModel (см. руководство пользователя), которая автоматически определит параметры N разных эпигенетических типов с наиболее выраженными наборами гистоновых меток и присвоит каждому геномному интервалу определенный эпигенетический тип. Количество разных эпигенетических типов (или состояний) выбираете сами (например 10 штук).\n",
        "Не забудьте, что мы работаем с версией референсного генома человека hg19\n",
        "Для 11 меток программа работает около 10 минут\n"
      ],
      "metadata": {
        "id": "Yo11TtNG8SXU"
      }
    },
    {
      "cell_type": "code",
      "source": [
        "!java -mx8000M -jar /content/ChromHMM/ChromHMM.jar LearnModel binarizedData Output 10 hg19"
      ],
      "metadata": {
        "colab": {
          "base_uri": "https://localhost:8080/"
        },
        "id": "VnB45MccKFZC",
        "outputId": "4788f4c4-1475-4a6a-ac95-4488ae1e7859"
      },
      "execution_count": null,
      "outputs": [
        {
          "output_type": "stream",
          "name": "stdout",
          "text": [
            "Writing to file Output/transitions_10.txt\n",
            "Writing to file Output/emissions_10.txt\n",
            "Writing to file Output/emissions_10.svg\n",
            "Writing to file Output/emissions_10.png\n",
            "Writing to file Output/transitions_10.png\n",
            "Writing to file Output/transitions_10.svg\n",
            "Writing to file Output/model_10.txt\n",
            " Iteration  Estimated Log Likelihood     Change    Total Time (secs)\n",
            "         1             -13357692.985          -                 15.6\n",
            "         2             -11672194.500 1685498.485                 28.4\n",
            "         3             -11300108.478 372086.022                 38.2\n",
            "         4             -11133370.233 166738.245                 47.6\n",
            "         5             -11065454.871  67915.362                 56.9\n",
            "         6             -11045715.618  19739.253                 66.2\n",
            "         7             -11039351.722   6363.896                 75.6\n",
            "         8             -11036577.985   2773.737                 84.9\n",
            "         9             -11034876.291   1701.694                 94.1\n",
            "        10             -11033314.725   1561.566                107.1\n",
            "        11             -11031325.668   1989.057                117.7\n",
            "        12             -11028543.519   2782.149                128.4\n",
            "        13             -11025084.635   3458.884                138.8\n",
            "        14             -11021588.617   3496.018                149.3\n",
            "        15             -11018685.903   2902.714                160.0\n",
            "        16             -11016562.636   2123.267                170.6\n",
            "        17             -11015101.094   1461.542                181.3\n",
            "        18             -11014123.894    977.200                191.9\n",
            "        19             -11013478.289    645.605                202.5\n",
            "        20             -11013050.422    427.867                213.0\n",
            "        21             -11012762.334    288.088                223.6\n",
            "        22             -11012563.126    199.208                234.2\n",
            "        23             -11012420.411    142.715                244.9\n",
            "        24             -11012313.630    106.781                255.5\n",
            "        25             -11012229.599     84.031                266.1\n",
            "        26             -11012159.650     69.949                276.7\n",
            "        27             -11012097.804     61.845                287.3\n",
            "        28             -11012039.570     58.234                297.9\n",
            "        29             -11011981.069     58.502                308.5\n",
            "        30             -11011918.244     62.825                318.9\n",
            "        31             -11011845.910     72.334                329.5\n",
            "        32             -11011756.179     89.732                342.9\n",
            "        33             -11011635.361    120.817                353.4\n",
            "        34             -11011457.163    178.199                363.8\n",
            "        35             -11011167.303    289.859                374.2\n",
            "        36             -11010654.660    512.644                384.7\n",
            "        37             -11009748.437    906.223                395.3\n",
            "        38             -11008439.839   1308.598                405.7\n",
            "        39             -11007217.504   1222.335                416.2\n",
            "        40             -11006530.325    687.179                426.7\n",
            "        41             -11006249.292    281.033                437.4\n",
            "        42             -11006137.583    111.708                447.8\n",
            "        43             -11006087.075     50.508                458.5\n",
            "        44             -11006060.854     26.222                468.8\n",
            "        45             -11006045.927     14.927                479.1\n",
            "        46             -11006036.969      8.957                489.6\n",
            "        47             -11006031.425      5.544                500.1\n",
            "        48             -11006027.921      3.504                510.7\n",
            "        49             -11006025.672      2.249                521.1\n",
            "        50             -11006024.209      1.463                531.5\n",
            "        51             -11006023.245      0.963                542.0\n",
            "        52             -11006022.604      0.642                552.5\n",
            "        53             -11006022.172      0.432                562.8\n",
            "        54             -11006021.878      0.294                572.9\n",
            "        55             -11006021.675      0.203                583.2\n",
            "        56             -11006021.532      0.143                593.7\n",
            "        57             -11006021.426      0.105                604.0\n",
            "        58             -11006021.343      0.083                614.5\n",
            "        59             -11006021.270      0.073                624.9\n",
            "        60             -11006021.195      0.076                635.4\n",
            "        61             -11006021.108      0.086                646.2\n",
            "        62             -11006021.009      0.099                656.7\n",
            "        63             -11006020.904      0.105                667.0\n",
            "        64             -11006020.807      0.097                677.2\n",
            "        65             -11006020.729      0.078                687.6\n",
            "        66             -11006020.674      0.055                697.5\n",
            "        67             -11006020.638      0.036                707.3\n",
            "        68             -11006020.616      0.022                717.6\n",
            "        69             -11006020.603      0.013                727.9\n",
            "        70             -11006020.595      0.008                738.4\n",
            "        71             -11006020.590      0.005                749.0\n",
            "        72             -11006020.586      0.004                759.0\n",
            "        73             -11006020.584      0.002                769.1\n",
            "        74             -11006020.582      0.002                778.9\n",
            "        75             -11006020.582      0.001                788.8\n",
            "Writing to file Output/Monocytes-CD14+_RO01746_10_segments.bed\n",
            "Writing to file Output/Monocytes-CD14+_RO01746_10_dense.bed\n",
            "Writing to file Output/Monocytes-CD14+_RO01746_10_expanded.bed\n",
            "Writing to file Output/Monocytes-CD14+_RO01746_10_overlap.txt\n",
            "Writing to file Output/Monocytes-CD14+_RO01746_10_overlap.png\n",
            "Writing to file Output/Monocytes-CD14+_RO01746_10_overlap.svg\n",
            "Writing to file Output/Monocytes-CD14+_RO01746_10_RefSeqTSS_neighborhood.txt\n",
            "Writing to file Output/Monocytes-CD14+_RO01746_10_RefSeqTSS_neighborhood.png\n",
            "Writing to file Output/Monocytes-CD14+_RO01746_10_RefSeqTSS_neighborhood.svg\n",
            "Writing to file Output/Monocytes-CD14+_RO01746_10_RefSeqTES_neighborhood.txt\n",
            "Writing to file Output/Monocytes-CD14+_RO01746_10_RefSeqTES_neighborhood.png\n",
            "Writing to file Output/Monocytes-CD14+_RO01746_10_RefSeqTES_neighborhood.svg\n",
            "Warning could not automatically open in a browser Output/webpage_10.html\n"
          ]
        }
      ]
    },
    {
      "cell_type": "code",
      "source": [
        "! zip -9 -r result.zip Output/"
      ],
      "metadata": {
        "id": "vBd6-0tIZEA9",
        "colab": {
          "base_uri": "https://localhost:8080/"
        },
        "outputId": "373dcb52-bd00-47e9-e56e-fa18b8f69a19"
      },
      "execution_count": null,
      "outputs": [
        {
          "output_type": "stream",
          "name": "stdout",
          "text": [
            "  adding: Output/ (stored 0%)\n",
            "  adding: Output/Monocytes-CD14+_RO01746_10_overlap.svg (deflated 70%)\n",
            "  adding: Output/model_10.txt (deflated 71%)\n",
            "  adding: Output/Monocytes-CD14+_RO01746_10_overlap.png (deflated 18%)\n",
            "  adding: Output/Monocytes-CD14+_RO01746_10_overlap.txt (deflated 47%)\n",
            "  adding: Output/transitions_10.svg (deflated 68%)\n",
            "  adding: Output/emissions_10.txt (deflated 49%)\n",
            "  adding: Output/Monocytes-CD14+_RO01746_10_RefSeqTES_neighborhood.txt (deflated 56%)\n",
            "  adding: Output/Monocytes-CD14+_RO01746_10_expanded.bed (deflated 70%)\n",
            "  adding: Output/Monocytes-CD14+_RO01746_10_segments.bed (deflated 80%)\n",
            "  adding: Output/Monocytes-CD14+_RO01746_10_RefSeqTES_neighborhood.png (deflated 33%)\n",
            "  adding: Output/emissions_10.png (deflated 22%)\n",
            "  adding: Output/webpage_10.html (deflated 76%)\n",
            "  adding: Output/emissions_10.svg (deflated 72%)\n",
            "  adding: Output/Monocytes-CD14+_RO01746_10_RefSeqTSS_neighborhood.txt (deflated 53%)\n",
            "  adding: Output/Monocytes-CD14+_RO01746_10_RefSeqTSS_neighborhood.png (deflated 30%)\n",
            "  adding: Output/transitions_10.txt (deflated 49%)\n",
            "  adding: Output/transitions_10.png (deflated 18%)\n",
            "  adding: Output/Monocytes-CD14+_RO01746_10_dense.bed (deflated 84%)\n",
            "  adding: Output/Monocytes-CD14+_RO01746_10_RefSeqTES_neighborhood.svg (deflated 73%)\n",
            "  adding: Output/Monocytes-CD14+_RO01746_10_RefSeqTSS_neighborhood.svg (deflated 73%)\n"
          ]
        }
      ]
    },
    {
      "cell_type": "code",
      "source": [
        "dictionary = {'1': 'gene_boundaries',\n",
        "         '2': 'heterochromatin',\n",
        "         '3': 'enhancer',\n",
        "         '4': 'exons_&_introns',\n",
        "         '5': 'introns',\n",
        "         '6': 'exons_&_introns',\n",
        "         '7': 'exons',\n",
        "         '8': 'exons_beginning',\n",
        "         '9': 'lamina',\n",
        "         '10': 'promoter_or_terminator',\n",
        "}\n",
        "\n",
        "def bonus(filename):\n",
        "    with open(f\"{filename}.bed\", 'r') as f1, open(f\"{filename}_new.bed\", 'w') as f2:\n",
        "        file = f1.readlines()\n",
        "\n",
        "        for line in file:\n",
        "            if 'chr' in line[0:3]:\n",
        "                line = line.split('\\t')\n",
        "                try:\n",
        "                  line[3] = line[3] + '_' + dictionary[line[3]]\n",
        "                except: \n",
        "                  print(line)\n",
        "                line = '\\t'.join(line)\n",
        "            f2.write(line)\n",
        "\n",
        "bonus('Monocytes-CD14+_RO01746_10_dense')\n",
        "bonus('Monocytes-CD14+_RO01746_10_expanded')"
      ],
      "metadata": {
        "id": "-bYn89VJEMph"
      },
      "execution_count": 14,
      "outputs": []
    },
    {
      "cell_type": "code",
      "source": [
        "! head Monocytes-CD14+_RO01746_10_dense_new.bed"
      ],
      "metadata": {
        "colab": {
          "base_uri": "https://localhost:8080/"
        },
        "id": "HF8Y3andFKjx",
        "outputId": "3a41e02f-43b0-47ec-c422-20c1ed4fba34"
      },
      "execution_count": 6,
      "outputs": [
        {
          "output_type": "stream",
          "name": "stdout",
          "text": [
            "track name=\"Monocytes-CD14+_RO01746_10\" description=\"Monocytes-CD14+_RO01746_10 (Emission ordered)\" visibility=1 itemRgb=\"On\"\n",
            "chr10\t0\t74000\t2_Promoter\t0\t.\t0\t74000\t0,153,204\n",
            "chr10\t74000\t75400\t3_Enhancer\t0\t.\t74000\t75400\t51,255,153\n",
            "chr10\t75400\t95400\t2_Promoter\t0\t.\t75400\t95400\t0,153,204\n",
            "chr10\t95400\t96000\t3_Enhancer\t0\t.\t95400\t96000\t51,255,153\n",
            "chr10\t96000\t103400\t2_Promoter\t0\t.\t96000\t103400\t0,153,204\n",
            "chr10\t103400\t104400\t3_Enhancer\t0\t.\t103400\t104400\t51,255,153\n",
            "chr10\t104400\t115200\t2_Promoter\t0\t.\t104400\t115200\t0,153,204\n",
            "chr10\t115200\t115600\t1_Enhancer\t0\t.\t115200\t115600\t0,0,255\n",
            "chr10\t115600\t118600\t2_Promoter\t0\t.\t115600\t118600\t0,153,204\n"
          ]
        }
      ]
    },
    {
      "cell_type": "code",
      "source": [
        "! ls"
      ],
      "metadata": {
        "colab": {
          "base_uri": "https://localhost:8080/"
        },
        "id": "ZVgIgBTnFO4Q",
        "outputId": "eef3814a-9b37-41e0-b86f-b2284b652450"
      },
      "execution_count": 13,
      "outputs": [
        {
          "output_type": "stream",
          "name": "stdout",
          "text": [
            "Monocytes-CD14+_RO01746_10_dense.bed  Monocytes-CD14+_RO01746_10_expanded.bed\n"
          ]
        }
      ]
    },
    {
      "cell_type": "code",
      "source": [
        ""
      ],
      "metadata": {
        "id": "Gptgs5r4IBX6"
      },
      "execution_count": null,
      "outputs": []
    }
  ]
}